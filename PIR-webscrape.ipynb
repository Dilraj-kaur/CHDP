{
 "cells": [
  {
   "cell_type": "code",
   "execution_count": 9,
   "metadata": {},
   "outputs": [],
   "source": [
    "from selenium import webdriver\n",
    "#from webdriver_manager.chrome import ChromeDriverManager\n",
    "import chromedriver_binary\n",
    "import time\n",
    "from selenium.webdriver.common.keys import Keys\n",
    "\n",
    "\n",
    "\n",
    "#driver = webdriver.Chrome(ChromeDriverManager().install())\n",
    "driver = webdriver.Chrome()\n",
    "\n",
    "driver.get('https://proteininformationresource.org/cgi-bin/textsearch.pl')\n",
    "driver.find_element_by_xpath('/html/body/table/tbody/tr/td/form/table[2]/tbody/tr/td[2]/input').send_keys('defensin')\n",
    "driver.find_element_by_xpath('/html/body/table/tbody/tr/td/form/table[2]/tbody/tr/td[1]/input').click()\n",
    "driver.find_element_by_xpath('/html/body/table/tbody/tr/td/form/table[5]/tbody/tr/td/table/tbody/tr[2]/td[1]/table/tbody/tr/td[2]/input').click()\n",
    "driver.find_element_by_xpath('/html/body/table/tbody/tr/td/form/table[4]/tbody/tr/td[3]/table/tbody/tr/td[5]/input').click()\n",
    "driver.find_element_by_xpath('/html/body/table/tbody/tr/td/form/table[5]/tbody/tr/td/table/tbody/tr[2]/td[1]/table/tbody/tr/td[2]/input').click()\n",
    "\n",
    "\n",
    "\n",
    "i=1\n",
    "while(i!=190):\n",
    "    \n",
    "#     driver.get('http://dramp.cpu-bioinfor.org/quick_search.php?srh_txt=defensin&end=5&begin=1&pageNow='+str(i))\n",
    "    \n",
    "#     driver.find_element_by_xpath('/html/body/table/tbody/tr/td/form/table[2]/tbody/tr/td[2]/input').sendkeys('defensin')\n",
    "\n",
    "#     driver.find_element_by_xpath('/html/body/table/tbody/tr/td/form/table[2]/tbody/tr/td[1]/input').click()\n",
    "    driver.find_element_by_xpath('/html/body/table/tbody/tr/td/form/table[4]/tbody/tr/td[2]/table/tbody/tr/td[1]/table/tbody/tr/td[23]/input').click()\n",
    "\n",
    "    driver.find_element_by_xpath('/html/body/table/tbody/tr/td/form/table[5]/tbody/tr/td/table/tbody/tr[2]/td[1]/table/tbody/tr/td[2]/input').click()\n",
    "    driver.find_element_by_xpath('/html/body/table/tbody/tr/td/form/table[4]/tbody/tr/td[3]/table/tbody/tr/td[5]/input').click()\n",
    "    driver.find_element_by_xpath('/html/body/table/tbody/tr/td/form/table[5]/tbody/tr/td/table/tbody/tr[2]/td[1]/table/tbody/tr/td[2]/input').click()\n",
    "\n",
    "\n",
    "    #driver.find_element_by_xpath('/html/body/div[2]/div[3]/div/div[1]/div[8]').click()\n",
    "    \n",
    "    #driver.execute_script(\"window.open('http://hdock.phys.hust.edu.cn');\")\n",
    "\n",
    "    #driver.switch_to.window(driver.window_handles[-1])\n",
    "\n",
    "\n",
    "    time.sleep(2)\n",
    "    i=i+1"
   ]
  },
  {
   "cell_type": "code",
   "execution_count": null,
   "metadata": {},
   "outputs": [],
   "source": []
  }
 ],
 "metadata": {
  "kernelspec": {
   "display_name": "Python 3",
   "language": "python",
   "name": "python3"
  },
  "language_info": {
   "codemirror_mode": {
    "name": "ipython",
    "version": 3
   },
   "file_extension": ".py",
   "mimetype": "text/x-python",
   "name": "python",
   "nbconvert_exporter": "python",
   "pygments_lexer": "ipython3",
   "version": "3.6.12"
  }
 },
 "nbformat": 4,
 "nbformat_minor": 4
}
