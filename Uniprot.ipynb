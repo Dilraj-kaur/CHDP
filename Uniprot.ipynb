{
 "cells": [
  {
   "cell_type": "code",
   "execution_count": 64,
   "metadata": {},
   "outputs": [
    {
     "name": "stdout",
     "output_type": "stream",
     "text": [
      ">UniRef100_P00750 Tissue-type plasminogen activator n=3 Tax=Homo sapiens TaxID=9606 RepID=TPA_HUMAN\n",
      "MDAMKRGLCCVLLLCGAVFVSPSQEIHARFRRGARSYQVICRDEKTQMIYQQHQSWLRPV\n",
      "LRSNRVEYCWCNSGRAQCHSVPVKSCSEPRCFNGGTCQQALYFSDFVCQCPEGFAGKCCE\n",
      "IDTRATCYEDQGISYRGTWSTAESGAECTNWNSSALAQKPYSGRRPDAIRLGLGNHNYCR\n",
      "NPDRDSKPWCYVFKAGKYSSEFCSTPACSEGNSDCYFGNGSAYRGTHSLTESGASCLPWN\n",
      "SMILIGKVYTAQNPSAQALGLGKHNYCRNPDGDAKPWCHVLKNRRLTWEYCDVPSCSTCG\n",
      "LRQYSQPQFRIKGGLFADIASHPWQAAIFAKHRRSPGERFLCGGILISSCWILSAAHCFQ\n",
      "ERFPPHHLTVILGRTYRVVPGEEEQKFEVEKYIVHKEFDDDTYDNDIALLQLKSDSSRCA\n",
      "QESSVVRTVCLPPADLQLPDWTECELSGYGKHEALSPFYSERLKEAHVRLYPSSRCTSQH\n",
      "LLNRTVTDNMLCAGDTRSGGPQANLHDACQGDSGGPLVCLNDGRMTLVGIISWGLGCGQK\n",
      "DVPGVYTKVTNYLDWIRDNMRP\n",
      ">UniRef50_P00750 Tissue-type plasminogen activator n=337 Tax=Gnathostomata TaxID=7776 RepID=TPA_HUMAN\n",
      "MDAMKRGLCCVLLLCGAVFVSPSQEIHARFRRGARSYQVICRDEKTQMIYQQHQSWLRPV\n",
      "LRSNRVEYCWCNSGRAQCHSVPVKSCSEPRCFNGGTCQQALYFSDFVCQCPEGFAGKCCE\n",
      "IDTRATCYEDQGISYRGTWSTAESGAECTNWNSSALAQKPYSGRRPDAIRLGLGNHNYCR\n",
      "NPDRDSKPWCYVFKAGKYSSEFCSTPACSEGNSDCYFGNGSAYRGTHSLTESGASCLPWN\n",
      "SMILIGKVYTAQNPSAQALGLGKHNYCRNPDGDAKPWCHVLKNRRLTWEYCDVPSCSTCG\n",
      "LRQYSQPQFRIKGGLFADIASHPWQAAIFAKHRRSPGERFLCGGILISSCWILSAAHCFQ\n",
      "ERFPPHHLTVILGRTYRVVPGEEEQKFEVEKYIVHKEFDDDTYDNDIALLQLKSDSSRCA\n",
      "QESSVVRTVCLPPADLQLPDWTECELSGYGKHEALSPFYSERLKEAHVRLYPSSRCTSQH\n",
      "LLNRTVTDNMLCAGDTRSGGPQANLHDACQGDSGGPLVCLNDGRMTLVGIISWGLGCGQK\n",
      "DVPGVYTKVTNYLDWIRDNMRP\n",
      ">UniRef90_P00750 Tissue-type plasminogen activator n=40 Tax=Simiiformes TaxID=314293 RepID=TPA_HUMAN\n",
      "MDAMKRGLCCVLLLCGAVFVSPSQEIHARFRRGARSYQVICRDEKTQMIYQQHQSWLRPV\n",
      "LRSNRVEYCWCNSGRAQCHSVPVKSCSEPRCFNGGTCQQALYFSDFVCQCPEGFAGKCCE\n",
      "IDTRATCYEDQGISYRGTWSTAESGAECTNWNSSALAQKPYSGRRPDAIRLGLGNHNYCR\n",
      "NPDRDSKPWCYVFKAGKYSSEFCSTPACSEGNSDCYFGNGSAYRGTHSLTESGASCLPWN\n",
      "SMILIGKVYTAQNPSAQALGLGKHNYCRNPDGDAKPWCHVLKNRRLTWEYCDVPSCSTCG\n",
      "LRQYSQPQFRIKGGLFADIASHPWQAAIFAKHRRSPGERFLCGGILISSCWILSAAHCFQ\n",
      "ERFPPHHLTVILGRTYRVVPGEEEQKFEVEKYIVHKEFDDDTYDNDIALLQLKSDSSRCA\n",
      "QESSVVRTVCLPPADLQLPDWTECELSGYGKHEALSPFYSERLKEAHVRLYPSSRCTSQH\n",
      "LLNRTVTDNMLCAGDTRSGGPQANLHDACQGDSGGPLVCLNDGRMTLVGIISWGLGCGQK\n",
      "DVPGVYTKVTNYLDWIRDNMRP\n",
      "\n"
     ]
    }
   ],
   "source": [
    "import requests\n",
    "params = {\"query\": \"P00750\", \"format\": \"fasta\", \"include\": \"No\"}\n",
    "response = requests.get(\"http://www.uniprot.org/uniprot/\", params=params)\n",
    "print (response.text)"
   ]
  },
  {
   "cell_type": "code",
   "execution_count": 72,
   "metadata": {},
   "outputs": [],
   "source": [
    "import pandas as pd\n",
    "a= pd.read_csv(\"/Users/dilrajkaur/Desktop/CHDP/dataset/Cathelicidin/uniref.list.csv\",header=None)"
   ]
  },
  {
   "cell_type": "code",
   "execution_count": null,
   "metadata": {},
   "outputs": [
    {
     "name": "stdout",
     "output_type": "stream",
     "text": [
      "A0A0A7NSI0\n",
      "A0A0A7NM18\n",
      "S9XBT5\n",
      "S9XMK0\n",
      "Q0PMA2\n",
      "B9UKL9\n",
      "A0A1S3UUW6\n",
      "A0A5B7D6B6\n",
      "A0A4C2A616\n",
      "A0A6P5DNN5\n",
      "A0A6P5DN21\n",
      "A0A4Z1NIT3\n",
      "P33046\n",
      "A0A3Q1LRG2\n",
      "A0A0A7NM38\n",
      "P50415\n",
      "A0A0A7NM44\n",
      "V9LYN7\n",
      "A0A6J0ZCZ2\n",
      "A0A0A7NSI4\n",
      "A0A0A7NP06\n",
      "A0A0A7NM00\n",
      "A0A0A7NLZ5\n",
      "M1R993\n",
      "A0A0A7NNZ5\n",
      "A0A0A7NM21\n",
      "A0A0A7NSG2\n",
      "A0A0A7NLY8\n",
      "A0A0A7NM07\n",
      "A0A0A7NSG7\n",
      "A0A0A7NM12\n",
      "A0A097ITJ7\n",
      "A0A210Q3L1\n",
      "A0A6P5DRM0\n",
      "L8HPZ1\n",
      "B9UKM4\n",
      "A0A6P3JB74\n",
      "W0S8U1\n",
      "A0A0A7NM27\n",
      "B9TUC9\n",
      "A0A0A7UZN3\n",
      "A0A6P3J9G1\n",
      "A0A6P3J7T2\n",
      "A0A3R7QH91\n",
      "W5NUP9\n",
      "A0A6P3IH59\n",
      "A0A0D3MJH6\n",
      "A0A0D3MJW1\n",
      "UPI0007777560\n",
      "A0A0A7NNZ8\n",
      "A0A0A7NNZ0\n",
      "A0A0A7NSG9\n",
      "A0A0A7NM42\n",
      "A0A1Q9F313\n",
      "A0A0A7NSH2\n",
      "A0A097ITJ8\n",
      "I1T028\n"
     ]
    }
   ],
   "source": [
    "df=pd.DataFrame()\n",
    "import time\n",
    "i=[]\n",
    "for k in a.iloc[65:,0]:\n",
    "    params = {\"query\": str(k), \"format\": \"fasta\", \"include\": \"No\"}\n",
    "    response = requests.get(\"https://www.uniprot.org/uniref/\", params=params)\n",
    "    #print (response.text)\n",
    "    i.append(response.text.split('\\n')[0])\n",
    "    i.append(''.join(response.text.split('\\n')[1:]))\n",
    "    time.sleep(3)\n",
    "    print(k)\n",
    "\n",
    "df['uniprot_seqs']=i"
   ]
  },
  {
   "cell_type": "code",
   "execution_count": 77,
   "metadata": {},
   "outputs": [],
   "source": [
    "i1=i"
   ]
  },
  {
   "cell_type": "code",
   "execution_count": 47,
   "metadata": {},
   "outputs": [],
   "source": [
    "i2=i"
   ]
  },
  {
   "cell_type": "code",
   "execution_count": 83,
   "metadata": {},
   "outputs": [
    {
     "data": {
      "text/plain": [
       "'A0A0A7UXB6'"
      ]
     },
     "execution_count": 83,
     "metadata": {},
     "output_type": "execute_result"
    }
   ],
   "source": [
    "a.iloc[64,0]"
   ]
  },
  {
   "cell_type": "code",
   "execution_count": 53,
   "metadata": {},
   "outputs": [],
   "source": [
    "i3=i"
   ]
  },
  {
   "cell_type": "code",
   "execution_count": 55,
   "metadata": {},
   "outputs": [
    {
     "data": {
      "text/plain": [
       "1042"
      ]
     },
     "execution_count": 55,
     "metadata": {},
     "output_type": "execute_result"
    }
   ],
   "source": [
    "len(i1+i2+i3)"
   ]
  },
  {
   "cell_type": "code",
   "execution_count": 57,
   "metadata": {},
   "outputs": [],
   "source": [
    "df=pd.DataFrame()"
   ]
  },
  {
   "cell_type": "code",
   "execution_count": 59,
   "metadata": {},
   "outputs": [],
   "source": [
    "df['uniprot_seqs']=i1+i2+i3"
   ]
  },
  {
   "cell_type": "code",
   "execution_count": 61,
   "metadata": {},
   "outputs": [],
   "source": [
    "df.to_csv('/Users/dilrajkaur/Desktop/CHDP/dataset/trembl-uniprot.csv')"
   ]
  },
  {
   "cell_type": "code",
   "execution_count": 81,
   "metadata": {},
   "outputs": [
    {
     "data": {
      "text/plain": [
       "65.0"
      ]
     },
     "execution_count": 81,
     "metadata": {},
     "output_type": "execute_result"
    }
   ],
   "source": [
    "len(i1)/2"
   ]
  },
  {
   "cell_type": "code",
   "execution_count": 68,
   "metadata": {},
   "outputs": [
    {
     "data": {
      "text/plain": [
       "(1404, 1)"
      ]
     },
     "execution_count": 68,
     "metadata": {},
     "output_type": "execute_result"
    }
   ],
   "source": [
    "a.shape"
   ]
  },
  {
   "cell_type": "code",
   "execution_count": 73,
   "metadata": {},
   "outputs": [
    {
     "data": {
      "text/html": [
       "<div>\n",
       "<style scoped>\n",
       "    .dataframe tbody tr th:only-of-type {\n",
       "        vertical-align: middle;\n",
       "    }\n",
       "\n",
       "    .dataframe tbody tr th {\n",
       "        vertical-align: top;\n",
       "    }\n",
       "\n",
       "    .dataframe thead th {\n",
       "        text-align: right;\n",
       "    }\n",
       "</style>\n",
       "<table border=\"1\" class=\"dataframe\">\n",
       "  <thead>\n",
       "    <tr style=\"text-align: right;\">\n",
       "      <th></th>\n",
       "      <th>0</th>\n",
       "    </tr>\n",
       "  </thead>\n",
       "  <tbody>\n",
       "    <tr>\n",
       "      <th>0</th>\n",
       "      <td>Q683R8</td>\n",
       "    </tr>\n",
       "    <tr>\n",
       "      <th>1</th>\n",
       "      <td>Q0MX34</td>\n",
       "    </tr>\n",
       "    <tr>\n",
       "      <th>2</th>\n",
       "      <td>B8R7Q8</td>\n",
       "    </tr>\n",
       "    <tr>\n",
       "      <th>3</th>\n",
       "      <td>A0A482CYG9</td>\n",
       "    </tr>\n",
       "    <tr>\n",
       "      <th>4</th>\n",
       "      <td>X5I0G0</td>\n",
       "    </tr>\n",
       "    <tr>\n",
       "      <th>...</th>\n",
       "      <td>...</td>\n",
       "    </tr>\n",
       "    <tr>\n",
       "      <th>1398</th>\n",
       "      <td>A0A250YAY5</td>\n",
       "    </tr>\n",
       "    <tr>\n",
       "      <th>1399</th>\n",
       "      <td>P26202</td>\n",
       "    </tr>\n",
       "    <tr>\n",
       "      <th>1400</th>\n",
       "      <td>Q9LV56</td>\n",
       "    </tr>\n",
       "    <tr>\n",
       "      <th>1401</th>\n",
       "      <td>A0A151NYA0</td>\n",
       "    </tr>\n",
       "    <tr>\n",
       "      <th>1402</th>\n",
       "      <td>Q96Q77</td>\n",
       "    </tr>\n",
       "  </tbody>\n",
       "</table>\n",
       "<p>1403 rows × 1 columns</p>\n",
       "</div>"
      ],
      "text/plain": [
       "               0\n",
       "0         Q683R8\n",
       "1         Q0MX34\n",
       "2         B8R7Q8\n",
       "3     A0A482CYG9\n",
       "4         X5I0G0\n",
       "...          ...\n",
       "1398  A0A250YAY5\n",
       "1399      P26202\n",
       "1400      Q9LV56\n",
       "1401  A0A151NYA0\n",
       "1402      Q96Q77\n",
       "\n",
       "[1403 rows x 1 columns]"
      ]
     },
     "execution_count": 73,
     "metadata": {},
     "output_type": "execute_result"
    }
   ],
   "source": [
    "a"
   ]
  },
  {
   "cell_type": "code",
   "execution_count": null,
   "metadata": {},
   "outputs": [],
   "source": []
  }
 ],
 "metadata": {
  "kernelspec": {
   "display_name": "Python 3",
   "language": "python",
   "name": "python3"
  },
  "language_info": {
   "codemirror_mode": {
    "name": "ipython",
    "version": 3
   },
   "file_extension": ".py",
   "mimetype": "text/x-python",
   "name": "python",
   "nbconvert_exporter": "python",
   "pygments_lexer": "ipython3",
   "version": "3.6.12"
  }
 },
 "nbformat": 4,
 "nbformat_minor": 4
}
