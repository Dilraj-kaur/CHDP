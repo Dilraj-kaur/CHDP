{
 "cells": [
  {
   "cell_type": "code",
   "execution_count": 5,
   "metadata": {},
   "outputs": [],
   "source": [
    "from selenium import webdriver\n",
    "#from webdriver_manager.chrome import ChromeDriverManager\n",
    "import chromedriver_binary\n",
    "import time\n",
    "\n",
    "#driver = webdriver.Chrome(ChromeDriverManager().install())\n",
    "driver = webdriver.Chrome()\n",
    "i=1\n",
    "while(i!=64):\n",
    "    \n",
    "    driver.get('http://dramp.cpu-bioinfor.org/quick_search.php?srh_txt=defensin&end=5&begin=1&pageNow='+str(i))\n",
    "    \n",
    "    driver.find_element_by_xpath('//*[@id=\"CheckAll\"]').click()\n",
    "\n",
    "    driver.find_element_by_xpath('//*[@id=\"myFunction\"]/label/label[1]/a/img').click()\n",
    "\n",
    "    #driver.find_element_by_xpath('/html/body/div[2]/div[3]/div/div[1]/div[8]').click()\n",
    "    \n",
    "    #driver.execute_script(\"window.open('http://hdock.phys.hust.edu.cn');\")\n",
    "\n",
    "    driver.switch_to.window(driver.window_handles[-1])\n",
    "\n",
    "\n",
    "    time.sleep(2)\n",
    "    i=i+1\n"
   ]
  },
  {
   "cell_type": "code",
   "execution_count": null,
   "metadata": {},
   "outputs": [],
   "source": [
    "pip install webdriver-managaer"
   ]
  },
  {
   "cell_type": "code",
   "execution_count": null,
   "metadata": {},
   "outputs": [],
   "source": [
    "\n"
   ]
  },
  {
   "cell_type": "code",
   "execution_count": null,
   "metadata": {},
   "outputs": [],
   "source": []
  }
 ],
 "metadata": {
  "kernelspec": {
   "display_name": "Python 3",
   "language": "python",
   "name": "python3"
  },
  "language_info": {
   "codemirror_mode": {
    "name": "ipython",
    "version": 3
   },
   "file_extension": ".py",
   "mimetype": "text/x-python",
   "name": "python",
   "nbconvert_exporter": "python",
   "pygments_lexer": "ipython3",
   "version": "3.6.12"
  }
 },
 "nbformat": 4,
 "nbformat_minor": 4
}
